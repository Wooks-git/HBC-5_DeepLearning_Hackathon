{
 "cells": [
  {
   "cell_type": "markdown",
   "metadata": {
    "id": "iy5za_3-pv5C"
   },
   "source": [
    "\n",
    "### 프로젝트 완성하기 위한 단계\n",
    "\n",
    "아래 여러 단계로 진행합니다:\n",
    "\n",
    "* [Step 0](#step0): Dataset 준비하기\n",
    "* [Step 1](#step1): Create a CNN to Classify (Transfer learning) \n",
    "* [Step 2](#step2): Train & Test & Optimaization\n",
    "* [Step 3](#step3): App"
   ]
  },
  {
   "cell_type": "code",
   "execution_count": 1,
   "metadata": {},
   "outputs": [
    {
     "name": "stdout",
     "output_type": "stream",
     "text": [
      "Requirement already satisfied: opencv-python in c:\\users\\shimboseok\\appdata\\roaming\\python\\python37\\site-packages (4.5.1.48)\n",
      "Requirement already satisfied: numpy>=1.14.5 in c:\\programdata\\anaconda3\\lib\\site-packages (from opencv-python) (1.18.1)\n"
     ]
    },
    {
     "name": "stderr",
     "output_type": "stream",
     "text": [
      "WARNING: You are using pip version 21.0.1; however, version 21.1.1 is available.\n",
      "You should consider upgrading via the 'c:\\programdata\\anaconda3\\python.exe -m pip install --upgrade pip' command.\n"
     ]
    }
   ],
   "source": [
    "!pip install opencv-python"
   ]
  },
  {
   "cell_type": "code",
   "execution_count": 2,
   "metadata": {},
   "outputs": [
    {
     "name": "stdout",
     "output_type": "stream",
     "text": [
      "Requirement already satisfied: tqdm in c:\\programdata\\anaconda3\\lib\\site-packages (4.42.1)\n"
     ]
    },
    {
     "name": "stderr",
     "output_type": "stream",
     "text": [
      "WARNING: You are using pip version 21.0.1; however, version 21.1.1 is available.\n",
      "You should consider upgrading via the 'c:\\programdata\\anaconda3\\python.exe -m pip install --upgrade pip' command.\n"
     ]
    }
   ],
   "source": [
    "!pip install tqdm"
   ]
  },
  {
   "cell_type": "code",
   "execution_count": 3,
   "metadata": {},
   "outputs": [
    {
     "name": "stdout",
     "output_type": "stream",
     "text": [
      "Requirement already satisfied: matplotlib in c:\\users\\shimboseok\\appdata\\roaming\\python\\python37\\site-packages (3.3.4)\n",
      "Requirement already satisfied: kiwisolver>=1.0.1 in c:\\users\\shimboseok\\appdata\\roaming\\python\\python37\\site-packages (from matplotlib) (1.3.1)\n",
      "Requirement already satisfied: pyparsing!=2.0.4,!=2.1.2,!=2.1.6,>=2.0.3 in c:\\users\\shimboseok\\appdata\\roaming\\python\\python37\\site-packages (from matplotlib) (2.4.7)\n",
      "Requirement already satisfied: numpy>=1.15 in c:\\programdata\\anaconda3\\lib\\site-packages (from matplotlib) (1.18.1)\n",
      "Requirement already satisfied: cycler>=0.10 in c:\\users\\shimboseok\\appdata\\roaming\\python\\python37\\site-packages (from matplotlib) (0.10.0)\n",
      "Requirement already satisfied: python-dateutil>=2.1 in c:\\users\\shimboseok\\appdata\\roaming\\python\\python37\\site-packages (from matplotlib) (2.8.1)\n",
      "Requirement already satisfied: pillow>=6.2.0 in c:\\users\\shimboseok\\appdata\\roaming\\python\\python37\\site-packages (from matplotlib) (8.1.2)\n",
      "Requirement already satisfied: six in c:\\users\\shimboseok\\appdata\\roaming\\python\\python37\\site-packages (from cycler>=0.10->matplotlib) (1.15.0)\n"
     ]
    },
    {
     "name": "stderr",
     "output_type": "stream",
     "text": [
      "WARNING: You are using pip version 21.0.1; however, version 21.1.1 is available.\n",
      "You should consider upgrading via the 'c:\\programdata\\anaconda3\\python.exe -m pip install --upgrade pip' command.\n"
     ]
    }
   ],
   "source": [
    "!pip install matplotlib"
   ]
  },
  {
   "cell_type": "code",
   "execution_count": 4,
   "metadata": {},
   "outputs": [
    {
     "name": "stdout",
     "output_type": "stream",
     "text": [
      "4.5.1\n"
     ]
    }
   ],
   "source": [
    "import cv2\n",
    "print(cv2.__version__)"
   ]
  },
  {
   "cell_type": "code",
   "execution_count": 5,
   "metadata": {
    "id": "dcOXX68wpv5D"
   },
   "outputs": [],
   "source": [
    "import numpy as np\n",
    "from glob import glob\n",
    "import random\n",
    "import cv2                \n",
    "import os\n",
    "from pathlib import Path\n",
    "from tqdm import tqdm\n",
    "import torchvision\n",
    "from torchvision import datasets\n",
    "import torch\n",
    "from torch.utils.data.sampler import SubsetRandomSampler\n",
    "import torchvision.models as models\n",
    "import torchvision.transforms as transforms\n",
    "from torch.autograd import Variable\n",
    "import torch.nn as nn\n",
    "import torch.nn.functional as F\n",
    "import torch.optim as optimizer\n",
    "from PIL import ImageFile\n",
    "from PIL import Image\n",
    "import IPython\n",
    "import matplotlib.pyplot as plt\n",
    "from collections import OrderedDict\n",
    "from torch.optim.lr_scheduler import StepLR\n",
    "%matplotlib inline\n",
    "%config InlineBackend.figure_format = 'retina'"
   ]
  },
  {
   "cell_type": "markdown",
   "metadata": {
    "id": "ri0drixxpv5F"
   },
   "source": [
    "---\n",
    "<a id='step0'></a>\n",
    "## Step 0: Dataset 준비하기\n",
    "\n",
    "\n",
    "1. __images 폴더__는 dataset인 각 건물들을 분류해 놓은 이미지 폴더입니다. \n",
    "2. __models 폴더__는 학습된 모델을 저장하기 위한 폴더 입니다."
   ]
  },
  {
   "cell_type": "code",
   "execution_count": 6,
   "metadata": {
    "colab": {
     "base_uri": "https://localhost:8080/",
     "height": 53
    },
    "id": "HuMrebQApv5K",
    "outputId": "7fadb4d3-83f9-4256-87b7-fca980edeb20"
   },
   "outputs": [
    {
     "name": "stdout",
     "output_type": "stream",
     "text": [
      "총 10779 개의 building images가 있습니다.\n"
     ]
    }
   ],
   "source": [
    "import random\n",
    "import numpy as np\n",
    "from glob import glob\n",
    "\n",
    "# load filenames for building images\n",
    "# glob - 해당 경로상 파일이름에 대한 list를 반환\n",
    "building_files = np.array(glob(\"HBC-5/*/*/*/*\"))\n",
    "\n",
    "random.shuffle(building_files)\n",
    "\n",
    "\n",
    "# print number of images in each dataset\n",
    "print('총 %d 개의 building images가 있습니다.' % len(building_files))"
   ]
  },
  {
   "cell_type": "code",
   "execution_count": 7,
   "metadata": {
    "colab": {
     "base_uri": "https://localhost:8080/",
     "height": 125
    },
    "id": "V5VqYAYepv5M",
    "outputId": "760f07a1-407f-44c6-886c-10ab208e661f"
   },
   "outputs": [
    {
     "data": {
      "text/plain": [
       "array(['HBC-5\\\\images\\\\train\\\\3\\\\img_1575.png',\n",
       "       'HBC-5\\\\images\\\\train\\\\2\\\\img_1198.png',\n",
       "       'HBC-5\\\\images\\\\train\\\\4\\\\img_847.png', ...,\n",
       "       'HBC-5\\\\images\\\\train\\\\3\\\\img_1755.png',\n",
       "       'HBC-5\\\\images\\\\test\\\\1\\\\img_99.png',\n",
       "       'HBC-5\\\\images\\\\test\\\\3\\\\img_74.png'], dtype='<U33')"
      ]
     },
     "execution_count": 7,
     "metadata": {},
     "output_type": "execute_result"
    }
   ],
   "source": [
    "building_files"
   ]
  },
  {
   "cell_type": "code",
   "execution_count": 8,
   "metadata": {},
   "outputs": [],
   "source": [
    "def image_loader(img_path, transform, use_cuda):\n",
    "    image = Image.open(img_path).convert('RGB')\n",
    "    img = transform(image)[:3,:,:].unsqueeze(0)\n",
    "    if use_cuda:\n",
    "        img = img.cuda()\n",
    "    return img"
   ]
  },
  {
   "cell_type": "code",
   "execution_count": 9,
   "metadata": {},
   "outputs": [
    {
     "data": {
      "text/plain": [
       "'GeForce RTX 2060 SUPER'"
      ]
     },
     "execution_count": 9,
     "metadata": {},
     "output_type": "execute_result"
    }
   ],
   "source": [
    "## Get Id of default device\n",
    "torch.cuda.current_device()\n",
    "# 0\n",
    "torch.cuda.get_device_name(0)"
   ]
  },
  {
   "cell_type": "code",
   "execution_count": 10,
   "metadata": {},
   "outputs": [],
   "source": [
    "#  train 이미지의 RGB별 평균과 표준편차를 구하려고 합니다.(Normalize하기 위해서)\n",
    "use_cuda = torch.cuda.is_available()\n",
    "newpath = Path(\"HBC-5/images\").expanduser()\n",
    "train_path = str(newpath.joinpath(\"train\"))\n",
    "valid_path = str(newpath.joinpath(\"valid\"))\n",
    "test_path = str(newpath.joinpath(\"test\"))\n",
    "IMAGE_SIZE = 224"
   ]
  },
  {
   "cell_type": "code",
   "execution_count": 11,
   "metadata": {
    "colab": {
     "base_uri": "https://localhost:8080/",
     "height": 53
    },
    "id": "T1Z9RYBREb86",
    "outputId": "5a03db28-b69e-4d7c-f305-123489850840"
   },
   "outputs": [
    {
     "name": "stdout",
     "output_type": "stream",
     "text": [
      "5\n",
      "200\n",
      "400\n",
      "600\n",
      "800\n",
      "1000\n",
      "1200\n",
      "1400\n",
      "1600\n",
      "1800\n",
      "2000\n",
      "2200\n",
      "2400\n",
      "2600\n",
      "2800\n",
      "3000\n",
      "3200\n",
      "3400\n",
      "3600\n",
      "3800\n",
      "4000\n",
      "4200\n",
      "4400\n",
      "4600\n",
      "4800\n",
      "5000\n",
      "5200\n",
      "5400\n",
      "5600\n",
      "5800\n",
      "6000\n",
      "6200\n",
      "6400\n",
      "6600\n",
      "6800\n",
      "7000\n",
      "7200\n",
      "7400\n",
      "7600\n",
      "7688\n",
      "tensor([0.3465, 0.3562, 0.3582], device='cuda:0')\n",
      "tensor([0.1854, 0.1864, 0.1994], device='cuda:0')\n"
     ]
    }
   ],
   "source": [
    "# image file is truncated (150 bytes not processed) 에러가 떠서 해결\n",
    "    # ImageFile.LOAD_TRUNCATED_IMAGES = True\n",
    "\n",
    "# normalization을 해주기 위해 mean과 std를 구하려고 합니다.\n",
    "train_transform =  transforms.Compose([transforms.Resize((IMAGE_SIZE,IMAGE_SIZE)),\n",
    "                                      transforms.ToTensor()\n",
    "                                      ])\n",
    "\n",
    "# train set을 가져오기.\n",
    "trainset = datasets.ImageFolder(train_path, transform=train_transform)\n",
    "trainloader = torch.utils.data.DataLoader(trainset, batch_size=200, shuffle = False)\n",
    "\n",
    "\n",
    "# train set의 class의 개수 저장\n",
    "BUILDING = len(trainset.classes)\n",
    "print(BUILDING)\n",
    "\n",
    "\n",
    "# cnt는 이미지의 개수\n",
    "cnt = 0\n",
    "mean = 0.\n",
    "std = 0.\n",
    "for images, label in trainloader:\n",
    "    # [20,3,224,224] -> [20,3,224*224] 로 바꿈\n",
    "    if(use_cuda):\n",
    "        images = images.cuda()\n",
    "    images = images.view(images.size(0), images.size(1), -1)\n",
    "\n",
    "    # batch만큼의  사진의 개수를 count해줌\n",
    "    cnt += images.size(0)\n",
    "    # 각 batch당 색깔별 mean, std를 구해 mean, std 변수에 합쳐서 저장\n",
    "    mean += images.mean(2).sum(0) \n",
    "    std += images.std(2).sum(0)\n",
    "    print(cnt)\n",
    "# 사진의 개수로 위에서 더한 mean값을 나눠줌\n",
    "mean /= cnt\n",
    "std /= cnt\n",
    "\n",
    "print(mean)\n",
    "print(std)"
   ]
  },
  {
   "cell_type": "code",
   "execution_count": 12,
   "metadata": {},
   "outputs": [
    {
     "name": "stdout",
     "output_type": "stream",
     "text": [
      "Num of classese :  5\n"
     ]
    }
   ],
   "source": [
    "BUILDING = len(trainset.classes)\n",
    "print('Num of classese : ', BUILDING)"
   ]
  },
  {
   "cell_type": "markdown",
   "metadata": {
    "id": "nWUGp9l6pv5V"
   },
   "source": [
    "---\n",
    "<a id='step1'></a>\n",
    "## Step 1: Create a CNN to Classify (Transfer learning) \n",
    "\n",
    "### Pre-trained Resnet Model 불러오기\n"
   ]
  },
  {
   "cell_type": "markdown",
   "metadata": {},
   "source": [
    "### Transfer learning을 위한 네트워크를 가져옵니다."
   ]
  },
  {
   "cell_type": "code",
   "execution_count": 13,
   "metadata": {},
   "outputs": [],
   "source": [
    "model_transfer = models.resnet50(pretrained=True)"
   ]
  },
  {
   "cell_type": "code",
   "execution_count": 14,
   "metadata": {
    "id": "ftI5DCZVpv5w"
   },
   "outputs": [],
   "source": [
    "# 위에서 구한 mean값과 std값을 MEANS 와 DEVIATIONS 변수에 넣어 줍니다.\n",
    "MEANS = [0.1854, 0.1864, 0.1994]\n",
    "DEVIATIONS = [0.3465, 0.3562, 0.3582]\n",
    "\n",
    "#size 조정과 학습할 때 Normalize에 사용된 mean값과 std값으로 Normalize를 적용해 주었습니다. \n",
    "#train_transforms의 경우 각도 변환과, 뒤집기, 자르기를 통해 더 많은 data를 가지는 효과를 냅니다.\n",
    "transfer_train_transforms = transforms.Compose([transforms.Resize((IMAGE_SIZE, IMAGE_SIZE)),\n",
    "                                                transforms.RandomHorizontalFlip(p=0.5),\n",
    "                                                transforms.ToTensor(),\n",
    "                                                transforms.Normalize(MEANS, DEVIATIONS)])\n",
    "\n",
    "transfer_test_transforms = transforms.Compose([transforms.Resize((IMAGE_SIZE, IMAGE_SIZE)),\n",
    "                                               transforms.ToTensor(),\n",
    "                                               transforms.Normalize(MEANS, DEVIATIONS)\n",
    "                                              ])\n",
    "\n",
    "# Image folder\n",
    "\n",
    "transfer_training = datasets.ImageFolder(train_path, transform=transfer_train_transforms)\n",
    "transfer_validation = datasets.ImageFolder(valid_path, transform=transfer_test_transforms)\n",
    "transfer_testing = datasets.ImageFolder(test_path, transform=transfer_test_transforms)\n",
    "\n",
    "\n",
    "# DataLoader\n",
    "\n",
    "transfer_train_batches =  torch.utils.data.DataLoader(transfer_training, batch_size=128, shuffle = True)\n",
    "transfer_valid_batches =  torch.utils.data.DataLoader(transfer_validation, batch_size=128, shuffle = False)\n",
    "transfer_test_batches =  torch.utils.data.DataLoader(transfer_testing, batch_size=128, shuffle = False)\n",
    "\n",
    "\n",
    "# transfer_model의 Featuer 부분은, training 하지 않기 때문에, 모든 parameter를 동결 시킨 뒤, fc부분을 새로 정의해 줍니다.\n",
    "for param in model_transfer.parameters():\n",
    "    param.requires_grad = False\n",
    "\n",
    "    \n",
    "# fc부분에 교체할 fc를 만들어 줍니다.\n",
    "fc = nn.Sequential(OrderedDict([('fc1', nn.Linear(2048, 1000)),\n",
    "                                ('bn1', nn.BatchNorm1d(1000)),\n",
    "                                ('ReLU', nn.ReLU()),\n",
    "                                ('fc2', nn.Linear(1000, 700)),\n",
    "                                ('bn2', nn.BatchNorm1d(700)),\n",
    "                                ('ReLU', nn.ReLU()),\n",
    "                                ('dropout', nn.Dropout(0.2)),\n",
    "                                ('fc3', nn.Linear(700, 200)),\n",
    "                                ('bn3', nn.BatchNorm1d(200)),\n",
    "                                ('ReLU', nn.ReLU()),\n",
    "                                ('fc4', nn.Linear(200, BUILDING))]))\n",
    "\n",
    "model_transfer.fc = fc\n",
    "\n",
    "# cuda 설정\n",
    "device = torch.device(\"cuda:0\" if torch.cuda.is_available() else \"cpu\")\n",
    "model_transfer.to(device)\n",
    "\n",
    "if use_cuda:\n",
    "    model_transfer = model_transfer.cuda()"
   ]
  },
  {
   "cell_type": "code",
   "execution_count": 15,
   "metadata": {
    "colab": {
     "base_uri": "https://localhost:8080/",
     "height": 35
    },
    "id": "2MdNhw24UgF9",
    "outputId": "6ee1bb61-4d21-44e9-c9bb-095580dc7450"
   },
   "outputs": [
    {
     "data": {
      "text/plain": [
       "torch.Size([128, 3, 224, 224])"
      ]
     },
     "execution_count": 15,
     "metadata": {},
     "output_type": "execute_result"
    }
   ],
   "source": [
    "# batch당 data의 size를 확인합니다.\n",
    "a , b = next(iter(transfer_train_batches))\n",
    "a.size()"
   ]
  },
  {
   "cell_type": "markdown",
   "metadata": {},
   "source": [
    "## 구성된 네트워크를 확인합니다."
   ]
  },
  {
   "cell_type": "code",
   "execution_count": 16,
   "metadata": {
    "collapsed": true,
    "jupyter": {
     "outputs_hidden": true
    }
   },
   "outputs": [
    {
     "data": {
      "text/plain": [
       "ResNet(\n",
       "  (conv1): Conv2d(3, 64, kernel_size=(7, 7), stride=(2, 2), padding=(3, 3), bias=False)\n",
       "  (bn1): BatchNorm2d(64, eps=1e-05, momentum=0.1, affine=True, track_running_stats=True)\n",
       "  (relu): ReLU(inplace=True)\n",
       "  (maxpool): MaxPool2d(kernel_size=3, stride=2, padding=1, dilation=1, ceil_mode=False)\n",
       "  (layer1): Sequential(\n",
       "    (0): Bottleneck(\n",
       "      (conv1): Conv2d(64, 64, kernel_size=(1, 1), stride=(1, 1), bias=False)\n",
       "      (bn1): BatchNorm2d(64, eps=1e-05, momentum=0.1, affine=True, track_running_stats=True)\n",
       "      (conv2): Conv2d(64, 64, kernel_size=(3, 3), stride=(1, 1), padding=(1, 1), bias=False)\n",
       "      (bn2): BatchNorm2d(64, eps=1e-05, momentum=0.1, affine=True, track_running_stats=True)\n",
       "      (conv3): Conv2d(64, 256, kernel_size=(1, 1), stride=(1, 1), bias=False)\n",
       "      (bn3): BatchNorm2d(256, eps=1e-05, momentum=0.1, affine=True, track_running_stats=True)\n",
       "      (relu): ReLU(inplace=True)\n",
       "      (downsample): Sequential(\n",
       "        (0): Conv2d(64, 256, kernel_size=(1, 1), stride=(1, 1), bias=False)\n",
       "        (1): BatchNorm2d(256, eps=1e-05, momentum=0.1, affine=True, track_running_stats=True)\n",
       "      )\n",
       "    )\n",
       "    (1): Bottleneck(\n",
       "      (conv1): Conv2d(256, 64, kernel_size=(1, 1), stride=(1, 1), bias=False)\n",
       "      (bn1): BatchNorm2d(64, eps=1e-05, momentum=0.1, affine=True, track_running_stats=True)\n",
       "      (conv2): Conv2d(64, 64, kernel_size=(3, 3), stride=(1, 1), padding=(1, 1), bias=False)\n",
       "      (bn2): BatchNorm2d(64, eps=1e-05, momentum=0.1, affine=True, track_running_stats=True)\n",
       "      (conv3): Conv2d(64, 256, kernel_size=(1, 1), stride=(1, 1), bias=False)\n",
       "      (bn3): BatchNorm2d(256, eps=1e-05, momentum=0.1, affine=True, track_running_stats=True)\n",
       "      (relu): ReLU(inplace=True)\n",
       "    )\n",
       "    (2): Bottleneck(\n",
       "      (conv1): Conv2d(256, 64, kernel_size=(1, 1), stride=(1, 1), bias=False)\n",
       "      (bn1): BatchNorm2d(64, eps=1e-05, momentum=0.1, affine=True, track_running_stats=True)\n",
       "      (conv2): Conv2d(64, 64, kernel_size=(3, 3), stride=(1, 1), padding=(1, 1), bias=False)\n",
       "      (bn2): BatchNorm2d(64, eps=1e-05, momentum=0.1, affine=True, track_running_stats=True)\n",
       "      (conv3): Conv2d(64, 256, kernel_size=(1, 1), stride=(1, 1), bias=False)\n",
       "      (bn3): BatchNorm2d(256, eps=1e-05, momentum=0.1, affine=True, track_running_stats=True)\n",
       "      (relu): ReLU(inplace=True)\n",
       "    )\n",
       "  )\n",
       "  (layer2): Sequential(\n",
       "    (0): Bottleneck(\n",
       "      (conv1): Conv2d(256, 128, kernel_size=(1, 1), stride=(1, 1), bias=False)\n",
       "      (bn1): BatchNorm2d(128, eps=1e-05, momentum=0.1, affine=True, track_running_stats=True)\n",
       "      (conv2): Conv2d(128, 128, kernel_size=(3, 3), stride=(2, 2), padding=(1, 1), bias=False)\n",
       "      (bn2): BatchNorm2d(128, eps=1e-05, momentum=0.1, affine=True, track_running_stats=True)\n",
       "      (conv3): Conv2d(128, 512, kernel_size=(1, 1), stride=(1, 1), bias=False)\n",
       "      (bn3): BatchNorm2d(512, eps=1e-05, momentum=0.1, affine=True, track_running_stats=True)\n",
       "      (relu): ReLU(inplace=True)\n",
       "      (downsample): Sequential(\n",
       "        (0): Conv2d(256, 512, kernel_size=(1, 1), stride=(2, 2), bias=False)\n",
       "        (1): BatchNorm2d(512, eps=1e-05, momentum=0.1, affine=True, track_running_stats=True)\n",
       "      )\n",
       "    )\n",
       "    (1): Bottleneck(\n",
       "      (conv1): Conv2d(512, 128, kernel_size=(1, 1), stride=(1, 1), bias=False)\n",
       "      (bn1): BatchNorm2d(128, eps=1e-05, momentum=0.1, affine=True, track_running_stats=True)\n",
       "      (conv2): Conv2d(128, 128, kernel_size=(3, 3), stride=(1, 1), padding=(1, 1), bias=False)\n",
       "      (bn2): BatchNorm2d(128, eps=1e-05, momentum=0.1, affine=True, track_running_stats=True)\n",
       "      (conv3): Conv2d(128, 512, kernel_size=(1, 1), stride=(1, 1), bias=False)\n",
       "      (bn3): BatchNorm2d(512, eps=1e-05, momentum=0.1, affine=True, track_running_stats=True)\n",
       "      (relu): ReLU(inplace=True)\n",
       "    )\n",
       "    (2): Bottleneck(\n",
       "      (conv1): Conv2d(512, 128, kernel_size=(1, 1), stride=(1, 1), bias=False)\n",
       "      (bn1): BatchNorm2d(128, eps=1e-05, momentum=0.1, affine=True, track_running_stats=True)\n",
       "      (conv2): Conv2d(128, 128, kernel_size=(3, 3), stride=(1, 1), padding=(1, 1), bias=False)\n",
       "      (bn2): BatchNorm2d(128, eps=1e-05, momentum=0.1, affine=True, track_running_stats=True)\n",
       "      (conv3): Conv2d(128, 512, kernel_size=(1, 1), stride=(1, 1), bias=False)\n",
       "      (bn3): BatchNorm2d(512, eps=1e-05, momentum=0.1, affine=True, track_running_stats=True)\n",
       "      (relu): ReLU(inplace=True)\n",
       "    )\n",
       "    (3): Bottleneck(\n",
       "      (conv1): Conv2d(512, 128, kernel_size=(1, 1), stride=(1, 1), bias=False)\n",
       "      (bn1): BatchNorm2d(128, eps=1e-05, momentum=0.1, affine=True, track_running_stats=True)\n",
       "      (conv2): Conv2d(128, 128, kernel_size=(3, 3), stride=(1, 1), padding=(1, 1), bias=False)\n",
       "      (bn2): BatchNorm2d(128, eps=1e-05, momentum=0.1, affine=True, track_running_stats=True)\n",
       "      (conv3): Conv2d(128, 512, kernel_size=(1, 1), stride=(1, 1), bias=False)\n",
       "      (bn3): BatchNorm2d(512, eps=1e-05, momentum=0.1, affine=True, track_running_stats=True)\n",
       "      (relu): ReLU(inplace=True)\n",
       "    )\n",
       "  )\n",
       "  (layer3): Sequential(\n",
       "    (0): Bottleneck(\n",
       "      (conv1): Conv2d(512, 256, kernel_size=(1, 1), stride=(1, 1), bias=False)\n",
       "      (bn1): BatchNorm2d(256, eps=1e-05, momentum=0.1, affine=True, track_running_stats=True)\n",
       "      (conv2): Conv2d(256, 256, kernel_size=(3, 3), stride=(2, 2), padding=(1, 1), bias=False)\n",
       "      (bn2): BatchNorm2d(256, eps=1e-05, momentum=0.1, affine=True, track_running_stats=True)\n",
       "      (conv3): Conv2d(256, 1024, kernel_size=(1, 1), stride=(1, 1), bias=False)\n",
       "      (bn3): BatchNorm2d(1024, eps=1e-05, momentum=0.1, affine=True, track_running_stats=True)\n",
       "      (relu): ReLU(inplace=True)\n",
       "      (downsample): Sequential(\n",
       "        (0): Conv2d(512, 1024, kernel_size=(1, 1), stride=(2, 2), bias=False)\n",
       "        (1): BatchNorm2d(1024, eps=1e-05, momentum=0.1, affine=True, track_running_stats=True)\n",
       "      )\n",
       "    )\n",
       "    (1): Bottleneck(\n",
       "      (conv1): Conv2d(1024, 256, kernel_size=(1, 1), stride=(1, 1), bias=False)\n",
       "      (bn1): BatchNorm2d(256, eps=1e-05, momentum=0.1, affine=True, track_running_stats=True)\n",
       "      (conv2): Conv2d(256, 256, kernel_size=(3, 3), stride=(1, 1), padding=(1, 1), bias=False)\n",
       "      (bn2): BatchNorm2d(256, eps=1e-05, momentum=0.1, affine=True, track_running_stats=True)\n",
       "      (conv3): Conv2d(256, 1024, kernel_size=(1, 1), stride=(1, 1), bias=False)\n",
       "      (bn3): BatchNorm2d(1024, eps=1e-05, momentum=0.1, affine=True, track_running_stats=True)\n",
       "      (relu): ReLU(inplace=True)\n",
       "    )\n",
       "    (2): Bottleneck(\n",
       "      (conv1): Conv2d(1024, 256, kernel_size=(1, 1), stride=(1, 1), bias=False)\n",
       "      (bn1): BatchNorm2d(256, eps=1e-05, momentum=0.1, affine=True, track_running_stats=True)\n",
       "      (conv2): Conv2d(256, 256, kernel_size=(3, 3), stride=(1, 1), padding=(1, 1), bias=False)\n",
       "      (bn2): BatchNorm2d(256, eps=1e-05, momentum=0.1, affine=True, track_running_stats=True)\n",
       "      (conv3): Conv2d(256, 1024, kernel_size=(1, 1), stride=(1, 1), bias=False)\n",
       "      (bn3): BatchNorm2d(1024, eps=1e-05, momentum=0.1, affine=True, track_running_stats=True)\n",
       "      (relu): ReLU(inplace=True)\n",
       "    )\n",
       "    (3): Bottleneck(\n",
       "      (conv1): Conv2d(1024, 256, kernel_size=(1, 1), stride=(1, 1), bias=False)\n",
       "      (bn1): BatchNorm2d(256, eps=1e-05, momentum=0.1, affine=True, track_running_stats=True)\n",
       "      (conv2): Conv2d(256, 256, kernel_size=(3, 3), stride=(1, 1), padding=(1, 1), bias=False)\n",
       "      (bn2): BatchNorm2d(256, eps=1e-05, momentum=0.1, affine=True, track_running_stats=True)\n",
       "      (conv3): Conv2d(256, 1024, kernel_size=(1, 1), stride=(1, 1), bias=False)\n",
       "      (bn3): BatchNorm2d(1024, eps=1e-05, momentum=0.1, affine=True, track_running_stats=True)\n",
       "      (relu): ReLU(inplace=True)\n",
       "    )\n",
       "    (4): Bottleneck(\n",
       "      (conv1): Conv2d(1024, 256, kernel_size=(1, 1), stride=(1, 1), bias=False)\n",
       "      (bn1): BatchNorm2d(256, eps=1e-05, momentum=0.1, affine=True, track_running_stats=True)\n",
       "      (conv2): Conv2d(256, 256, kernel_size=(3, 3), stride=(1, 1), padding=(1, 1), bias=False)\n",
       "      (bn2): BatchNorm2d(256, eps=1e-05, momentum=0.1, affine=True, track_running_stats=True)\n",
       "      (conv3): Conv2d(256, 1024, kernel_size=(1, 1), stride=(1, 1), bias=False)\n",
       "      (bn3): BatchNorm2d(1024, eps=1e-05, momentum=0.1, affine=True, track_running_stats=True)\n",
       "      (relu): ReLU(inplace=True)\n",
       "    )\n",
       "    (5): Bottleneck(\n",
       "      (conv1): Conv2d(1024, 256, kernel_size=(1, 1), stride=(1, 1), bias=False)\n",
       "      (bn1): BatchNorm2d(256, eps=1e-05, momentum=0.1, affine=True, track_running_stats=True)\n",
       "      (conv2): Conv2d(256, 256, kernel_size=(3, 3), stride=(1, 1), padding=(1, 1), bias=False)\n",
       "      (bn2): BatchNorm2d(256, eps=1e-05, momentum=0.1, affine=True, track_running_stats=True)\n",
       "      (conv3): Conv2d(256, 1024, kernel_size=(1, 1), stride=(1, 1), bias=False)\n",
       "      (bn3): BatchNorm2d(1024, eps=1e-05, momentum=0.1, affine=True, track_running_stats=True)\n",
       "      (relu): ReLU(inplace=True)\n",
       "    )\n",
       "  )\n",
       "  (layer4): Sequential(\n",
       "    (0): Bottleneck(\n",
       "      (conv1): Conv2d(1024, 512, kernel_size=(1, 1), stride=(1, 1), bias=False)\n",
       "      (bn1): BatchNorm2d(512, eps=1e-05, momentum=0.1, affine=True, track_running_stats=True)\n",
       "      (conv2): Conv2d(512, 512, kernel_size=(3, 3), stride=(2, 2), padding=(1, 1), bias=False)\n",
       "      (bn2): BatchNorm2d(512, eps=1e-05, momentum=0.1, affine=True, track_running_stats=True)\n",
       "      (conv3): Conv2d(512, 2048, kernel_size=(1, 1), stride=(1, 1), bias=False)\n",
       "      (bn3): BatchNorm2d(2048, eps=1e-05, momentum=0.1, affine=True, track_running_stats=True)\n",
       "      (relu): ReLU(inplace=True)\n",
       "      (downsample): Sequential(\n",
       "        (0): Conv2d(1024, 2048, kernel_size=(1, 1), stride=(2, 2), bias=False)\n",
       "        (1): BatchNorm2d(2048, eps=1e-05, momentum=0.1, affine=True, track_running_stats=True)\n",
       "      )\n",
       "    )\n",
       "    (1): Bottleneck(\n",
       "      (conv1): Conv2d(2048, 512, kernel_size=(1, 1), stride=(1, 1), bias=False)\n",
       "      (bn1): BatchNorm2d(512, eps=1e-05, momentum=0.1, affine=True, track_running_stats=True)\n",
       "      (conv2): Conv2d(512, 512, kernel_size=(3, 3), stride=(1, 1), padding=(1, 1), bias=False)\n",
       "      (bn2): BatchNorm2d(512, eps=1e-05, momentum=0.1, affine=True, track_running_stats=True)\n",
       "      (conv3): Conv2d(512, 2048, kernel_size=(1, 1), stride=(1, 1), bias=False)\n",
       "      (bn3): BatchNorm2d(2048, eps=1e-05, momentum=0.1, affine=True, track_running_stats=True)\n",
       "      (relu): ReLU(inplace=True)\n",
       "    )\n",
       "    (2): Bottleneck(\n",
       "      (conv1): Conv2d(2048, 512, kernel_size=(1, 1), stride=(1, 1), bias=False)\n",
       "      (bn1): BatchNorm2d(512, eps=1e-05, momentum=0.1, affine=True, track_running_stats=True)\n",
       "      (conv2): Conv2d(512, 512, kernel_size=(3, 3), stride=(1, 1), padding=(1, 1), bias=False)\n",
       "      (bn2): BatchNorm2d(512, eps=1e-05, momentum=0.1, affine=True, track_running_stats=True)\n",
       "      (conv3): Conv2d(512, 2048, kernel_size=(1, 1), stride=(1, 1), bias=False)\n",
       "      (bn3): BatchNorm2d(2048, eps=1e-05, momentum=0.1, affine=True, track_running_stats=True)\n",
       "      (relu): ReLU(inplace=True)\n",
       "    )\n",
       "  )\n",
       "  (avgpool): AdaptiveAvgPool2d(output_size=(1, 1))\n",
       "  (fc): Sequential(\n",
       "    (fc1): Linear(in_features=2048, out_features=1000, bias=True)\n",
       "    (bn1): BatchNorm1d(1000, eps=1e-05, momentum=0.1, affine=True, track_running_stats=True)\n",
       "    (ReLU): ReLU()\n",
       "    (fc2): Linear(in_features=1000, out_features=700, bias=True)\n",
       "    (bn2): BatchNorm1d(700, eps=1e-05, momentum=0.1, affine=True, track_running_stats=True)\n",
       "    (dropout): Dropout(p=0.2, inplace=False)\n",
       "    (fc3): Linear(in_features=700, out_features=200, bias=True)\n",
       "    (bn3): BatchNorm1d(200, eps=1e-05, momentum=0.1, affine=True, track_running_stats=True)\n",
       "    (fc4): Linear(in_features=200, out_features=5, bias=True)\n",
       "  )\n",
       ")"
      ]
     },
     "execution_count": 16,
     "metadata": {},
     "output_type": "execute_result"
    }
   ],
   "source": [
    "model_transfer"
   ]
  },
  {
   "cell_type": "markdown",
   "metadata": {},
   "source": [
    "<a id='step2'></a>\n",
    "## Step 2: Train & Test & Optimaization"
   ]
  },
  {
   "cell_type": "code",
   "execution_count": 17,
   "metadata": {
    "id": "BmQwqe17pv54"
   },
   "outputs": [],
   "source": [
    "ImageFile.LOAD_TRUNCATED_IMAGES = True\n",
    "\n",
    "def train(n_epochs, train_loader, valid_loader, model, optimizer, scheduler, criterion, use_cuda, save_path):\n",
    "    ### 답 작성 부분 ###\n",
    "\n",
    "    # 매개변수로 전해 받은 n_epochs를 n_epoch에 저장합니다.\n",
    "    n_epoch = n_epochs\n",
    "    \n",
    "    #plot해서 결과를 확인하기 위해 train loss와 valid loss를 저장할 list를 만들어 줍니다.\n",
    "    train_losses = []\n",
    "    valid_losses = []\n",
    "\n",
    "    #가장 작은 validation loss 값을 저장하기위한 변수를 생성합니다.\n",
    "    valid_loss_min = np.Inf \n",
    "\n",
    "    \n",
    "    #training을 진행하고, validation loss 구해 보겠습니다.\n",
    "    for epoch in range(1, n_epoch+1):\n",
    "\n",
    "        # 확인할 train loss와 validation loss 를 생성합니다.\n",
    "        train_loss = 0.0\n",
    "        valid_loss = 0.0\n",
    "    \n",
    "        ###################\n",
    "        # train the model #\n",
    "        ###################\n",
    "\n",
    "        #parameter들을 update 해야하므로, model.train()을 켜 줍니다.\n",
    "        model.train()\n",
    "\n",
    "        #train_loader에서 image와 label을 가져옵니다.\n",
    "        for data, target in tqdm(train_loader):\n",
    "\n",
    "            # CUDA 가 사용 가능하다면 image와 label을 GPU로 옮깁니다.\n",
    "            if use_cuda:\n",
    "                data, target = data.cuda(), target.cuda()\n",
    "          \n",
    "            # gradients 값을 초기화\n",
    "            optimizer.zero_grad()\n",
    "          \n",
    "            # forward pass: train_loader를 통해 가져온 batch를 model에 forward pass 시킵니다.\n",
    "            output = model(data)\n",
    "          \n",
    "            # batch loss를 계산합니다.\n",
    "            loss = criterion(output, target)\n",
    "          \n",
    "            # backward pass: gradient 값을 구합니다.\n",
    "            loss.backward()\n",
    "          \n",
    "            # Optimizer를 돌려서 parameter들을 update합니다.\n",
    "            optimizer.step()\n",
    "          \n",
    "            # batch별 train_loss를 더합니다.\n",
    "            train_loss += loss.item()*data.size(0)\n",
    "       \n",
    "        ######################    \n",
    "        # validate the model #\n",
    "        ######################\n",
    "        \n",
    "        #parameter들을 update하지 않으므로, model.eval()을 켜 줍니다.\n",
    "        model.eval()\n",
    "        \n",
    "        #valid_loader에서 image와 labe을 가져옵니다.\n",
    "        for data, target in tqdm(valid_loader):\n",
    "            \n",
    "            # CUDA가 사용 가능 하다면 image와 label을 GPU로 옮깁니다.\n",
    "            if use_cuda:\n",
    "                data, target = data.cuda(), target.cuda()\n",
    "            \n",
    "            # forward pass: valid_loader를 통해 가져온 batch를 model에 forward pass 시킵니다.\n",
    "            output = model(data)\n",
    "            \n",
    "            # Validation loss를 계산합니다.\n",
    "            loss = criterion(output, target)\n",
    "            \n",
    "            # batch별 Validation loss를 더합니다. \n",
    "            valid_loss += loss.item()*data.size(0)\n",
    "    \n",
    "        scheduler.step()\n",
    "        # 각 loss 들(모두 더한값) 을 평균을 만들어 줍니다. \n",
    "        train_loss = train_loss/len(train_loader.sampler)\n",
    "        valid_loss = valid_loss/len(valid_loader.sampler)\n",
    "        \n",
    "        #train_loss와 valid_loss를 위에서 생성한 losses list에 저장합니다.\n",
    "        train_losses.append(train_loss)\n",
    "        valid_losses.append(valid_loss)\n",
    "\n",
    "        # epoch별로 train loss와 validation loss를 보여줍니다.\n",
    "        print('Epoch: {} \\tTraining Loss: {:.6f} \\tValidation Loss: {:.6f}'.format(epoch, train_loss, valid_loss))\n",
    "    \n",
    "        # validation loss가 가장 작은 parameter를 저장합니다.\n",
    "        if valid_loss <= valid_loss_min:\n",
    "            print('Validation loss decreased ({:.6f} --> {:.6f}).  Saving model ...'.format(valid_loss_min, valid_loss))\n",
    "            torch.save(model.state_dict(), save_path)\n",
    "            valid_loss_min = valid_loss\n",
    "            \n",
    "    if(epoch>10 and epoch % 3 == 0):\n",
    "        bre = input(\" break? 0 :\")\n",
    "        if(bre == 0):\n",
    "            return model, train_losses, valid_losses\n",
    "      \n",
    "    #학습된 model, 성능을 확인할 train_losses, valid_losses를 반환합니다.        \n",
    "    return model, train_losses, valid_losses\n"
   ]
  },
  {
   "cell_type": "markdown",
   "metadata": {},
   "source": [
    "## optimizer, criterion, scheduler를 설정합니다."
   ]
  },
  {
   "cell_type": "code",
   "execution_count": 18,
   "metadata": {},
   "outputs": [],
   "source": [
    "criterion_transfer = torch.nn.CrossEntropyLoss()\n",
    "optimizer_transfer = optimizer.Adam(model_transfer.parameters(), lr=3e-3)\n",
    "scheduler_transfer = StepLR(optimizer=optimizer_transfer ,step_size=6, gamma=0.1)"
   ]
  },
  {
   "cell_type": "code",
   "execution_count": 19,
   "metadata": {
    "colab": {
     "base_uri": "https://localhost:8080/",
     "height": 719
    },
    "id": "vfbSApc349mo",
    "outputId": "20e40252-d6ea-45d1-f837-2c4a95f651b2"
   },
   "outputs": [
    {
     "name": "stderr",
     "output_type": "stream",
     "text": [
      "100%|██████████████████████████████████████████████████████████████████████████████████| 61/61 [01:24<00:00,  1.39s/it]\n",
      "100%|██████████████████████████████████████████████████████████████████████████████████| 13/13 [00:16<00:00,  1.30s/it]\n"
     ]
    },
    {
     "name": "stdout",
     "output_type": "stream",
     "text": [
      "Epoch: 1 \tTraining Loss: 0.169891 \tValidation Loss: 0.101589\n",
      "Validation loss decreased (inf --> 0.101589).  Saving model ...\n"
     ]
    },
    {
     "name": "stderr",
     "output_type": "stream",
     "text": [
      "100%|██████████████████████████████████████████████████████████████████████████████████| 61/61 [01:23<00:00,  1.37s/it]\n",
      "100%|██████████████████████████████████████████████████████████████████████████████████| 13/13 [00:16<00:00,  1.28s/it]\n"
     ]
    },
    {
     "name": "stdout",
     "output_type": "stream",
     "text": [
      "Epoch: 2 \tTraining Loss: 0.028700 \tValidation Loss: 0.065588\n",
      "Validation loss decreased (0.101589 --> 0.065588).  Saving model ...\n"
     ]
    },
    {
     "name": "stderr",
     "output_type": "stream",
     "text": [
      "100%|██████████████████████████████████████████████████████████████████████████████████| 61/61 [01:23<00:00,  1.36s/it]\n",
      "100%|██████████████████████████████████████████████████████████████████████████████████| 13/13 [00:16<00:00,  1.27s/it]\n"
     ]
    },
    {
     "name": "stdout",
     "output_type": "stream",
     "text": [
      "Epoch: 3 \tTraining Loss: 0.055548 \tValidation Loss: 0.056979\n",
      "Validation loss decreased (0.065588 --> 0.056979).  Saving model ...\n"
     ]
    },
    {
     "name": "stderr",
     "output_type": "stream",
     "text": [
      "100%|██████████████████████████████████████████████████████████████████████████████████| 61/61 [01:23<00:00,  1.37s/it]\n",
      "100%|██████████████████████████████████████████████████████████████████████████████████| 13/13 [00:16<00:00,  1.28s/it]\n",
      "  0%|                                                                                           | 0/61 [00:00<?, ?it/s]"
     ]
    },
    {
     "name": "stdout",
     "output_type": "stream",
     "text": [
      "Epoch: 4 \tTraining Loss: 0.013872 \tValidation Loss: 0.058037\n"
     ]
    },
    {
     "name": "stderr",
     "output_type": "stream",
     "text": [
      "100%|██████████████████████████████████████████████████████████████████████████████████| 61/61 [01:23<00:00,  1.37s/it]\n",
      "100%|██████████████████████████████████████████████████████████████████████████████████| 13/13 [00:16<00:00,  1.29s/it]\n"
     ]
    },
    {
     "name": "stdout",
     "output_type": "stream",
     "text": [
      "Epoch: 5 \tTraining Loss: 0.014931 \tValidation Loss: 0.053344\n",
      "Validation loss decreased (0.056979 --> 0.053344).  Saving model ...\n"
     ]
    },
    {
     "name": "stderr",
     "output_type": "stream",
     "text": [
      "100%|██████████████████████████████████████████████████████████████████████████████████| 61/61 [01:24<00:00,  1.38s/it]\n",
      "100%|██████████████████████████████████████████████████████████████████████████████████| 13/13 [00:16<00:00,  1.29s/it]\n"
     ]
    },
    {
     "name": "stdout",
     "output_type": "stream",
     "text": [
      "Epoch: 6 \tTraining Loss: 0.077724 \tValidation Loss: 0.036149\n",
      "Validation loss decreased (0.053344 --> 0.036149).  Saving model ...\n"
     ]
    },
    {
     "name": "stderr",
     "output_type": "stream",
     "text": [
      "100%|██████████████████████████████████████████████████████████████████████████████████| 61/61 [01:25<00:00,  1.41s/it]\n",
      "100%|██████████████████████████████████████████████████████████████████████████████████| 13/13 [00:18<00:00,  1.40s/it]\n"
     ]
    },
    {
     "name": "stdout",
     "output_type": "stream",
     "text": [
      "Epoch: 7 \tTraining Loss: 0.012204 \tValidation Loss: 0.030194\n",
      "Validation loss decreased (0.036149 --> 0.030194).  Saving model ...\n"
     ]
    },
    {
     "name": "stderr",
     "output_type": "stream",
     "text": [
      "100%|██████████████████████████████████████████████████████████████████████████████████| 61/61 [01:25<00:00,  1.40s/it]\n",
      "100%|██████████████████████████████████████████████████████████████████████████████████| 13/13 [00:16<00:00,  1.29s/it]\n"
     ]
    },
    {
     "name": "stdout",
     "output_type": "stream",
     "text": [
      "Epoch: 8 \tTraining Loss: 0.010007 \tValidation Loss: 0.029480\n",
      "Validation loss decreased (0.030194 --> 0.029480).  Saving model ...\n"
     ]
    },
    {
     "name": "stderr",
     "output_type": "stream",
     "text": [
      "100%|██████████████████████████████████████████████████████████████████████████████████| 61/61 [01:23<00:00,  1.38s/it]\n",
      "100%|██████████████████████████████████████████████████████████████████████████████████| 13/13 [00:16<00:00,  1.30s/it]\n",
      "  0%|                                                                                           | 0/61 [00:00<?, ?it/s]"
     ]
    },
    {
     "name": "stdout",
     "output_type": "stream",
     "text": [
      "Epoch: 9 \tTraining Loss: 0.006792 \tValidation Loss: 0.029509\n"
     ]
    },
    {
     "name": "stderr",
     "output_type": "stream",
     "text": [
      "100%|██████████████████████████████████████████████████████████████████████████████████| 61/61 [01:25<00:00,  1.39s/it]\n",
      "100%|██████████████████████████████████████████████████████████████████████████████████| 13/13 [00:16<00:00,  1.30s/it]\n"
     ]
    },
    {
     "name": "stdout",
     "output_type": "stream",
     "text": [
      "Epoch: 10 \tTraining Loss: 0.005158 \tValidation Loss: 0.025744\n",
      "Validation loss decreased (0.029480 --> 0.025744).  Saving model ...\n"
     ]
    },
    {
     "name": "stderr",
     "output_type": "stream",
     "text": [
      "100%|██████████████████████████████████████████████████████████████████████████████████| 61/61 [01:24<00:00,  1.39s/it]\n",
      "100%|██████████████████████████████████████████████████████████████████████████████████| 13/13 [00:16<00:00,  1.29s/it]\n"
     ]
    },
    {
     "name": "stdout",
     "output_type": "stream",
     "text": [
      "Epoch: 11 \tTraining Loss: 0.004370 \tValidation Loss: 0.024256\n",
      "Validation loss decreased (0.025744 --> 0.024256).  Saving model ...\n"
     ]
    },
    {
     "name": "stderr",
     "output_type": "stream",
     "text": [
      "100%|██████████████████████████████████████████████████████████████████████████████████| 61/61 [01:25<00:00,  1.40s/it]\n",
      "100%|██████████████████████████████████████████████████████████████████████████████████| 13/13 [00:17<00:00,  1.34s/it]\n"
     ]
    },
    {
     "name": "stdout",
     "output_type": "stream",
     "text": [
      "Epoch: 12 \tTraining Loss: 0.005493 \tValidation Loss: 0.023373\n",
      "Validation loss decreased (0.024256 --> 0.023373).  Saving model ...\n"
     ]
    },
    {
     "name": "stderr",
     "output_type": "stream",
     "text": [
      "100%|██████████████████████████████████████████████████████████████████████████████████| 61/61 [01:23<00:00,  1.37s/it]\n",
      "100%|██████████████████████████████████████████████████████████████████████████████████| 13/13 [00:16<00:00,  1.29s/it]\n",
      "  0%|                                                                                           | 0/61 [00:00<?, ?it/s]"
     ]
    },
    {
     "name": "stdout",
     "output_type": "stream",
     "text": [
      "Epoch: 13 \tTraining Loss: 0.003829 \tValidation Loss: 0.024167\n"
     ]
    },
    {
     "name": "stderr",
     "output_type": "stream",
     "text": [
      "100%|██████████████████████████████████████████████████████████████████████████████████| 61/61 [01:22<00:00,  1.36s/it]\n",
      "100%|██████████████████████████████████████████████████████████████████████████████████| 13/13 [00:16<00:00,  1.28s/it]\n",
      "  0%|                                                                                           | 0/61 [00:00<?, ?it/s]"
     ]
    },
    {
     "name": "stdout",
     "output_type": "stream",
     "text": [
      "Epoch: 14 \tTraining Loss: 0.005805 \tValidation Loss: 0.025169\n"
     ]
    },
    {
     "name": "stderr",
     "output_type": "stream",
     "text": [
      "100%|██████████████████████████████████████████████████████████████████████████████████| 61/61 [01:24<00:00,  1.38s/it]\n",
      "100%|██████████████████████████████████████████████████████████████████████████████████| 13/13 [00:16<00:00,  1.30s/it]\n",
      "  0%|                                                                                           | 0/61 [00:00<?, ?it/s]"
     ]
    },
    {
     "name": "stdout",
     "output_type": "stream",
     "text": [
      "Epoch: 15 \tTraining Loss: 0.004568 \tValidation Loss: 0.025402\n"
     ]
    },
    {
     "name": "stderr",
     "output_type": "stream",
     "text": [
      "100%|██████████████████████████████████████████████████████████████████████████████████| 61/61 [01:26<00:00,  1.41s/it]\n",
      "100%|██████████████████████████████████████████████████████████████████████████████████| 13/13 [00:17<00:00,  1.34s/it]\n"
     ]
    },
    {
     "name": "stdout",
     "output_type": "stream",
     "text": [
      "Epoch: 16 \tTraining Loss: 0.003275 \tValidation Loss: 0.022859\n",
      "Validation loss decreased (0.023373 --> 0.022859).  Saving model ...\n"
     ]
    },
    {
     "name": "stderr",
     "output_type": "stream",
     "text": [
      "100%|██████████████████████████████████████████████████████████████████████████████████| 61/61 [01:26<00:00,  1.42s/it]\n",
      "100%|██████████████████████████████████████████████████████████████████████████████████| 13/13 [00:17<00:00,  1.33s/it]\n",
      "  0%|                                                                                           | 0/61 [00:00<?, ?it/s]"
     ]
    },
    {
     "name": "stdout",
     "output_type": "stream",
     "text": [
      "Epoch: 17 \tTraining Loss: 0.003639 \tValidation Loss: 0.022636\n",
      "Validation loss decreased (0.022859 --> 0.022636).  Saving model ...\n"
     ]
    },
    {
     "name": "stderr",
     "output_type": "stream",
     "text": [
      "100%|██████████████████████████████████████████████████████████████████████████████████| 61/61 [01:26<00:00,  1.42s/it]\n",
      "100%|██████████████████████████████████████████████████████████████████████████████████| 13/13 [00:17<00:00,  1.33s/it]\n"
     ]
    },
    {
     "name": "stdout",
     "output_type": "stream",
     "text": [
      "Epoch: 18 \tTraining Loss: 0.003514 \tValidation Loss: 0.022576\n",
      "Validation loss decreased (0.022636 --> 0.022576).  Saving model ...\n"
     ]
    },
    {
     "name": "stderr",
     "output_type": "stream",
     "text": [
      "100%|██████████████████████████████████████████████████████████████████████████████████| 61/61 [01:24<00:00,  1.39s/it]\n",
      "100%|██████████████████████████████████████████████████████████████████████████████████| 13/13 [00:16<00:00,  1.28s/it]\n"
     ]
    },
    {
     "name": "stdout",
     "output_type": "stream",
     "text": [
      "Epoch: 19 \tTraining Loss: 0.003620 \tValidation Loss: 0.022310\n",
      "Validation loss decreased (0.022576 --> 0.022310).  Saving model ...\n"
     ]
    },
    {
     "name": "stderr",
     "output_type": "stream",
     "text": [
      "100%|██████████████████████████████████████████████████████████████████████████████████| 61/61 [01:23<00:00,  1.36s/it]\n",
      "100%|██████████████████████████████████████████████████████████████████████████████████| 13/13 [00:16<00:00,  1.28s/it]\n"
     ]
    },
    {
     "name": "stdout",
     "output_type": "stream",
     "text": [
      "Epoch: 20 \tTraining Loss: 0.002847 \tValidation Loss: 0.021942\n",
      "Validation loss decreased (0.022310 --> 0.021942).  Saving model ...\n"
     ]
    },
    {
     "data": {
      "text/plain": [
       "<All keys matched successfully>"
      ]
     },
     "execution_count": 19,
     "metadata": {},
     "output_type": "execute_result"
    }
   ],
   "source": [
    "# PIL image가 truncated 된 경우 사용할 수 있도록 설정\n",
    "ImageFile.LOAD_TRUNCATED_IMAGES = True\n",
    "\n",
    "#epoch를 설정합니다.\n",
    "epochs = 20\n",
    "\n",
    "model_path = Path(\"HBC-5/models\").expanduser()\n",
    "save_path = model_path.joinpath(\"model_transfer.pt\")\n",
    "\n",
    "# model_scratch 학습하기\n",
    "model_transfer, train_losses, valid_losses = train(epochs, transfer_train_batches, transfer_valid_batches, model_transfer, optimizer_transfer, scheduler_transfer, criterion_transfer, use_cuda, save_path)\n",
    "\n",
    "# validation이 가장 좋았던 모델 parameter 불러와서 저장하기\n",
    "model_transfer.load_state_dict(torch.load(save_path))"
   ]
  },
  {
   "cell_type": "code",
   "execution_count": 35,
   "metadata": {
    "colab": {
     "base_uri": "https://localhost:8080/",
     "height": 265
    },
    "id": "MXk_mqac4J-O",
    "outputId": "ad541891-d8d7-4a4f-aba3-3ce49adb8c30"
   },
   "outputs": [
    {
     "data": {
      "image/png": "[encoded data removed]",
      "text/plain": [
       "<Figure size 432x288 with 1 Axes>"
      ]
     },
     "metadata": {
      "image/png": {
       "height": 248,
       "width": 385
      },
      "needs_background": "light"
     },
     "output_type": "display_data"
    }
   ],
   "source": [
    "# 성능 분석에 활용하기 위한 결과 plot\n",
    "plt.plot(train_losses, label='Training loss')\n",
    "plt.plot(valid_losses, label='Validation loss')\n",
    "plt.legend(frameon=False)\n",
    "plt.grid(True)\n",
    "plt.savefig('loss_graph.png')"
   ]
  },
  {
   "cell_type": "code",
   "execution_count": 23,
   "metadata": {
    "id": "eUN2IQlKpv56"
   },
   "outputs": [],
   "source": [
    "def test(test_loader, model, criterion, use_cuda):\n",
    "\n",
    "    # test loss 를 만들어 줍니다.\n",
    "    test_loss = 0.0\n",
    "\n",
    "    # 분류를 성공한 개수를 알려줄 class_correct를 만들어 줍니다.\n",
    "    class_correct = list(0. for i in range(BUILDING))\n",
    "    \n",
    "    # image의 개수를 count하기위해 class_total을 만들어 줍니다.\n",
    "    class_total = list(0. for i in range(BUILDING))\n",
    "\n",
    "    # parameter들을 업데이트 하지 않기 때문에 model.eval()\n",
    "    model.eval()\n",
    "    \n",
    "    # testloader에서 image와 label을 가져 옵니다.\n",
    "    for data, target in tqdm(test_loader):\n",
    "    \n",
    "        # CUDA가 사용 가능하다면, GPU로 가져온 data를 옮깁니다.\n",
    "        if use_cuda:\n",
    "            data, target = data.cuda(), target.cuda()\n",
    "    \n",
    "        # forward pass: model에 image 를 넣고, 결과값을 output에 저장 \n",
    "        output = model(data)\n",
    "    \n",
    "        # batch의 loss를 계산합니다.\n",
    "        loss = criterion(output, target)\n",
    "    \n",
    "        # batch의 loss를 통해 test loss를 update해 줍니다. \n",
    "        test_loss += loss.item()*data.size(0)\n",
    "    \n",
    "        # batch 단위로 output의 값의 index를 pred에 저장합니다. (class에 해당합니다.)\n",
    "        _, pred = torch.max(output, 1)  \n",
    "        \n",
    "        # pred의 값이 목적값이랑 같다면 true를, 아니라면 false를 correct_tensor에 저장\n",
    "        correct_tensor = pred.eq(target.data.view_as(pred))\n",
    "        \n",
    "        # tensor -> numpy\n",
    "        correct = np.squeeze(correct_tensor.numpy()) if not use_cuda else np.squeeze(correct_tensor.cpu().numpy())\n",
    "        \n",
    "        # test set의 정확도를 계산\n",
    "        batch_size = len(target.data)\n",
    "        for i in range(batch_size):\n",
    "            label = target.data[i]\n",
    "            class_correct[label] += correct[i].item()\n",
    "            class_total[label] += 1\n",
    "\n",
    "    # 지금까지 더해왔던 test loss의 평균\n",
    "    test_loss = test_loss/len(test_loader.dataset)\n",
    "    print('Test Loss: {:.6f}\\n'.format(test_loss))\n",
    "    \n",
    "    # test 결과 출력\n",
    "    print('\\nTest Accuracy (Overall): %2d%% (%2d/%2d)' % (100. * np.sum(class_correct) / np.sum(class_total), np.sum(class_correct), np.sum(class_total)))"
   ]
  },
  {
   "cell_type": "markdown",
   "metadata": {
    "id": "TIJcRYFxpv6J"
   },
   "source": [
    "## 학습한 모델에 대한 성능 Test\n",
    "\n",
    "위에서 학습한 모델을 이용하여 개 이미지의 test dataset에서의 예측결과를 확인하세요.<br>\n",
    "test loss 와 test accuracy를 계산하고 출력\n"
   ]
  },
  {
   "cell_type": "code",
   "execution_count": 24,
   "metadata": {
    "id": "upjNmcVybQQk"
   },
   "outputs": [
    {
     "name": "stderr",
     "output_type": "stream",
     "text": [
      "100%|██████████████████████████████████████████████████████████████████████████████████| 12/12 [00:17<00:00,  1.46s/it]"
     ]
    },
    {
     "name": "stdout",
     "output_type": "stream",
     "text": [
      "Test Loss: 0.013315\n",
      "\n",
      "\n",
      "Test Accuracy (Overall): 99% (1513/1522)\n"
     ]
    },
    {
     "name": "stderr",
     "output_type": "stream",
     "text": [
      "\n"
     ]
    }
   ],
   "source": [
    "# call test function    \n",
    "test(transfer_test_batches, model_transfer, criterion_transfer, use_cuda)"
   ]
  },
  {
   "cell_type": "code",
   "execution_count": 27,
   "metadata": {},
   "outputs": [],
   "source": [
    "test_path2 = \"HBC-5/test_q\"\n",
    "transfer_testing2 = datasets.ImageFolder(test_path2, transform=transfer_test_transforms)\n",
    "transfer_test_batches2 =  torch.utils.data.DataLoader(transfer_testing2, batch_size=128, shuffle = False)"
   ]
  },
  {
   "cell_type": "code",
   "execution_count": 29,
   "metadata": {},
   "outputs": [
    {
     "ename": "NameError",
     "evalue": "name 'testset' is not defined",
     "output_type": "error",
     "traceback": [
      "\u001b[1;31m---------------------------------------------------------------------------\u001b[0m",
      "\u001b[1;31mNameError\u001b[0m                                 Traceback (most recent call last)",
      "\u001b[1;32m<ipython-input-29-823c4ade1bcb>\u001b[0m in \u001b[0;36m<module>\u001b[1;34m\u001b[0m\n\u001b[1;32m----> 1\u001b[1;33m \u001b[0mlen\u001b[0m\u001b[1;33m(\u001b[0m\u001b[0mtestset\u001b[0m\u001b[1;33m)\u001b[0m\u001b[1;33m\u001b[0m\u001b[1;33m\u001b[0m\u001b[0m\n\u001b[0m",
      "\u001b[1;31mNameError\u001b[0m: name 'testset' is not defined"
     ]
    }
   ],
   "source": [
    "len(testset)"
   ]
  },
  {
   "cell_type": "code",
   "execution_count": 30,
   "metadata": {},
   "outputs": [
    {
     "name": "stderr",
     "output_type": "stream",
     "text": [
      "100%|████████████████████████████████████████████████████████████████████████████████████| 2/2 [00:14<00:00,  7.47s/it]"
     ]
    },
    {
     "name": "stdout",
     "output_type": "stream",
     "text": [
      "Test Loss: 0.043188\n",
      "\n",
      "\n",
      "Test Accuracy (Overall): 98% (131/133)\n"
     ]
    },
    {
     "name": "stderr",
     "output_type": "stream",
     "text": [
      "\n"
     ]
    }
   ],
   "source": [
    "test(transfer_test_batches2, model_transfer, criterion_transfer, use_cuda)"
   ]
  },
  {
   "cell_type": "code",
   "execution_count": 31,
   "metadata": {},
   "outputs": [],
   "source": [
    "from PIL import Image\n",
    "import torch.nn.functional as F\n",
    "import matplotlib.pyplot as plt\n",
    "\n",
    "\n",
    "def predict(imgpath):\n",
    "    transform = transforms.Compose([transforms.Resize(224),\n",
    "                                transforms.ToTensor(),\n",
    "                                transforms.Normalize(MEANS,DEVIATIONS)\n",
    "                               ])\n",
    "\n",
    "    img = Image.open(imgpath).convert('RGB')\n",
    "    plt.imshow(img) # 출력\n",
    "    img = transform(img)\n",
    "    img = torch.unsqueeze(img , dim=0)\n",
    "    \n",
    "    img = img.to(device)\n",
    "    with torch.no_grad():\n",
    "        output = F.log_softmax(model_transfer(img))\n",
    "    ps = torch.exp(output)\n",
    "   \n",
    "    \n",
    "    \n",
    "    top_p, top_class = ps.topk(1, dim=1)\n",
    "    ans = ['공학관', '일송아트홀','산학협력관','대학본부별관', 'clc',]\n",
    "    print(ans[top_class])\n",
    "    \n",
    "    "
   ]
  },
  {
   "cell_type": "markdown",
   "metadata": {
    "id": "NNLkcDLtdEVM"
   },
   "source": [
    "# 참고자료 목차\n",
    "- [1]https://pytorch.org/docs/master/generated/torch.nn.BatchNorm2d.html \\\n",
    "   ->BatchNorm2d가 어떤 함수인지\n",
    "- [2] https://pytorch.org/docs/stable/_modules/torchvision/models/resnet.html#resnet50 \\\n",
    "\n",
    " ->Resnet source\n",
    "- [3]https://bskyvision.com/644 \\\n",
    "  ->Resnet 구조\n",
    "- [4]http://cs231n.stanford.edu/slides/2017/cs231n_2017_lecture9.pdf \\\n",
    "  ->Resnet 구조\n",
    "- [5]https://datascienceschool.net/view-notebook/958022040c544257aa7ba88643d6c032/ \\\n",
    "  ->Resnet 구조\n",
    "- [6]https://iq.opengenus.org/resnet50-architecture/ \\\n",
    "  ->Resnet 구조\n",
    "- [7]https://medium.com/mini-distill/effect-of-batch-size-on-training-dynamics-21c14f7a716e \\\n",
    "  ->batch size 설정팁\n",
    "- [8]http://aikorea.org/cs231n/neural-networks-2-kr/ \\\n",
    "  ->Normalize를 위한 mean값과 std값은 train set에서만 추출해야함\n",
    "- [9]https://medium.com/@urvashilluniya/why-data-normalization-is-necessary-for-machine-learning-models-681b65a05029 \\\n",
    "  ->Normalize가 필요한 이유\n",
    "- [10]https://towardsdatascience.com/why-data-should-be-normalized-before-training-a-neural-network-c626b7f66c7d \\\n",
    "  ->Normalize가 필요한 이유\n",
    "- [11]https://goodtogreate.tistory.com/entry/Neural-Network-%EC%A0%81%EC%9A%A9-%EC%A0%84%EC%97%90-Input-data%EB%A5%BC-Normalize-%ED%95%B4%EC%95%BC-%ED%95%98%EB%8A%94-%EC%9D%B4%EC%9C%A0 \\\n",
    "  ->Normalize가 필요한 이유\n",
    "- [12]https://www.cs.toronto.edu/~lczhang/321/tut/tut04.pdf \\\n",
    "  -> loss funtion\n",
    "- [13]http://www.gisdeveloper.co.kr/?p=8668 \\\n",
    "  -> NLLLoss vs CrossEntropyLoss\n",
    "- [14]https://towardsdatascience.com/cross-entropy-for-classification-d98e7f974451 \\\n",
    "  -> Classification - Loss 사진\n",
    "- [15]https://hyunw.kim/blog/2017/10/26/Cross_Entropy.html \\\n",
    "  -> Cross-Entropy\n",
    "- [16]https://pytorch.org/hub/pytorch_vision_resnet/ \\\n",
    "  ->학습된 model이 학습할 때 사용한 정규화 값"
   ]
  }
 ],
 "metadata": {
  "accelerator": "GPU",
  "colab": {
   "collapsed_sections": [],
   "name": "final_project_v8_problem.ipynb",
   "provenance": []
  },
  "kernelspec": {
   "display_name": "Python 3",
   "language": "python",
   "name": "python3"
  },
  "language_info": {
   "codemirror_mode": {
    "name": "ipython",
    "version": 3
   },
   "file_extension": ".py",
   "mimetype": "text/x-python",
   "name": "python",
   "nbconvert_exporter": "python",
   "pygments_lexer": "ipython3",
   "version": "3.7.6"
  },
  "widgets": {
   "application/vnd.jupyter.widget-state+json": {
    "269102f5413b449db20c961a01a77aa2": {
     "model_module": "@jupyter-widgets/base",
     "model_name": "LayoutModel",
     "state": {
      "_model_module": "@jupyter-widgets/base",
      "_model_module_version": "1.2.0",
      "_model_name": "LayoutModel",
      "_view_count": null,
      "_view_module": "@jupyter-widgets/base",
      "_view_module_version": "1.2.0",
      "_view_name": "LayoutView",
      "align_content": null,
      "align_items": null,
      "align_self": null,
      "border": null,
      "bottom": null,
      "display": null,
      "flex": null,
      "flex_flow": null,
      "grid_area": null,
      "grid_auto_columns": null,
      "grid_auto_flow": null,
      "grid_auto_rows": null,
      "grid_column": null,
      "grid_gap": null,
      "grid_row": null,
      "grid_template_areas": null,
      "grid_template_columns": null,
      "grid_template_rows": null,
      "height": null,
      "justify_content": null,
      "justify_items": null,
      "left": null,
      "margin": null,
      "max_height": null,
      "max_width": null,
      "min_height": null,
      "min_width": null,
      "object_fit": null,
      "object_position": null,
      "order": null,
      "overflow": null,
      "overflow_x": null,
      "overflow_y": null,
      "padding": null,
      "right": null,
      "top": null,
      "visibility": null,
      "width": null
     }
    },
    "6015a7446c3746ad9c847ffad4159e0f": {
     "model_module": "@jupyter-widgets/base",
     "model_name": "LayoutModel",
     "state": {
      "_model_module": "@jupyter-widgets/base",
      "_model_module_version": "1.2.0",
      "_model_name": "LayoutModel",
      "_view_count": null,
      "_view_module": "@jupyter-widgets/base",
      "_view_module_version": "1.2.0",
      "_view_name": "LayoutView",
      "align_content": null,
      "align_items": null,
      "align_self": null,
      "border": null,
      "bottom": null,
      "display": null,
      "flex": null,
      "flex_flow": null,
      "grid_area": null,
      "grid_auto_columns": null,
      "grid_auto_flow": null,
      "grid_auto_rows": null,
      "grid_column": null,
      "grid_gap": null,
      "grid_row": null,
      "grid_template_areas": null,
      "grid_template_columns": null,
      "grid_template_rows": null,
      "height": null,
      "justify_content": null,
      "justify_items": null,
      "left": null,
      "margin": null,
      "max_height": null,
      "max_width": null,
      "min_height": null,
      "min_width": null,
      "object_fit": null,
      "object_position": null,
      "order": null,
      "overflow": null,
      "overflow_x": null,
      "overflow_y": null,
      "padding": null,
      "right": null,
      "top": null,
      "visibility": null,
      "width": null
     }
    },
    "83bcbb7bdf454b199a9c2dd831b82543": {
     "model_module": "@jupyter-widgets/controls",
     "model_name": "ProgressStyleModel",
     "state": {
      "_model_module": "@jupyter-widgets/controls",
      "_model_module_version": "1.5.0",
      "_model_name": "ProgressStyleModel",
      "_view_count": null,
      "_view_module": "@jupyter-widgets/base",
      "_view_module_version": "1.2.0",
      "_view_name": "StyleView",
      "bar_color": null,
      "description_width": "initial"
     }
    },
    "a49ed614436e493dad88d3b03f340640": {
     "model_module": "@jupyter-widgets/base",
     "model_name": "LayoutModel",
     "state": {
      "_model_module": "@jupyter-widgets/base",
      "_model_module_version": "1.2.0",
      "_model_name": "LayoutModel",
      "_view_count": null,
      "_view_module": "@jupyter-widgets/base",
      "_view_module_version": "1.2.0",
      "_view_name": "LayoutView",
      "align_content": null,
      "align_items": null,
      "align_self": null,
      "border": null,
      "bottom": null,
      "display": null,
      "flex": null,
      "flex_flow": null,
      "grid_area": null,
      "grid_auto_columns": null,
      "grid_auto_flow": null,
      "grid_auto_rows": null,
      "grid_column": null,
      "grid_gap": null,
      "grid_row": null,
      "grid_template_areas": null,
      "grid_template_columns": null,
      "grid_template_rows": null,
      "height": null,
      "justify_content": null,
      "justify_items": null,
      "left": null,
      "margin": null,
      "max_height": null,
      "max_width": null,
      "min_height": null,
      "min_width": null,
      "object_fit": null,
      "object_position": null,
      "order": null,
      "overflow": null,
      "overflow_x": null,
      "overflow_y": null,
      "padding": null,
      "right": null,
      "top": null,
      "visibility": null,
      "width": null
     }
    },
    "a69d321b46864f9684ab912878110f88": {
     "model_module": "@jupyter-widgets/controls",
     "model_name": "FloatProgressModel",
     "state": {
      "_dom_classes": [],
      "_model_module": "@jupyter-widgets/controls",
      "_model_module_version": "1.5.0",
      "_model_name": "FloatProgressModel",
      "_view_count": null,
      "_view_module": "@jupyter-widgets/controls",
      "_view_module_version": "1.5.0",
      "_view_name": "ProgressView",
      "bar_style": "success",
      "description": "100%",
      "description_tooltip": null,
      "layout": "IPY_MODEL_a49ed614436e493dad88d3b03f340640",
      "max": 102502400,
      "min": 0,
      "orientation": "horizontal",
      "style": "IPY_MODEL_83bcbb7bdf454b199a9c2dd831b82543",
      "value": 102502400
     }
    },
    "b1836e2b4f2145649e09a4e9776f6afe": {
     "model_module": "@jupyter-widgets/controls",
     "model_name": "DescriptionStyleModel",
     "state": {
      "_model_module": "@jupyter-widgets/controls",
      "_model_module_version": "1.5.0",
      "_model_name": "DescriptionStyleModel",
      "_view_count": null,
      "_view_module": "@jupyter-widgets/base",
      "_view_module_version": "1.2.0",
      "_view_name": "StyleView",
      "description_width": ""
     }
    },
    "c86b68c986a7484192f3c025f3faa52c": {
     "model_module": "@jupyter-widgets/controls",
     "model_name": "HBoxModel",
     "state": {
      "_dom_classes": [],
      "_model_module": "@jupyter-widgets/controls",
      "_model_module_version": "1.5.0",
      "_model_name": "HBoxModel",
      "_view_count": null,
      "_view_module": "@jupyter-widgets/controls",
      "_view_module_version": "1.5.0",
      "_view_name": "HBoxView",
      "box_style": "",
      "children": [
       "IPY_MODEL_a69d321b46864f9684ab912878110f88",
       "IPY_MODEL_dace094c22bb47fdbb81d9e162b33a24"
      ],
      "layout": "IPY_MODEL_6015a7446c3746ad9c847ffad4159e0f"
     }
    },
    "dace094c22bb47fdbb81d9e162b33a24": {
     "model_module": "@jupyter-widgets/controls",
     "model_name": "HTMLModel",
     "state": {
      "_dom_classes": [],
      "_model_module": "@jupyter-widgets/controls",
      "_model_module_version": "1.5.0",
      "_model_name": "HTMLModel",
      "_view_count": null,
      "_view_module": "@jupyter-widgets/controls",
      "_view_module_version": "1.5.0",
      "_view_name": "HTMLView",
      "description": "",
      "description_tooltip": null,
      "layout": "IPY_MODEL_269102f5413b449db20c961a01a77aa2",
      "placeholder": "​",
      "style": "IPY_MODEL_b1836e2b4f2145649e09a4e9776f6afe",
      "value": " 97.8M/97.8M [01:13&lt;00:00, 1.40MB/s]"
     }
    }
   }
  }
 },
 "nbformat": 4,
 "nbformat_minor": 4
}
